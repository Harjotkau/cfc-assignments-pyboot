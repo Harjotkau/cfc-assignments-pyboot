{
  "nbformat": 4,
  "nbformat_minor": 0,
  "metadata": {
    "colab": {
      "name": "CFC-Assignment-1_Harjot Kaur.ipynb",
      "provenance": []
    },
    "kernelspec": {
      "name": "python3",
      "display_name": "Python 3"
    },
    "language_info": {
      "name": "python"
    }
  },
  "cells": [
    {
      "cell_type": "code",
      "metadata": {
        "id": "jIOWeHRhwRxA"
      },
      "source": [
        "#1 write the pseudocode and a program to input credits of a code for cause campus leader and then output the badge of the lead on the basis of the following criteria"
      ],
      "execution_count": 1,
      "outputs": []
    },
    {
      "cell_type": "code",
      "metadata": {
        "colab": {
          "base_uri": "https://localhost:8080/"
        },
        "id": "s5b-EvRIxIVo",
        "outputId": "7e54d610-137b-4261-9edc-0f17e773605d"
      },
      "source": [
        "credits=8000\n",
        "if 7500<=credits:\n",
        "  print(\"tera leader\")\n",
        "elif 6000<=credits<7500:\n",
        "  print(\"Gega leader\")\n",
        "elif 4500<=credits<6000:\n",
        "  print(\"Mega leader\")\n",
        "else:\n",
        "  print(\"Rising Star\")    \n",
        "\n"
      ],
      "execution_count": 2,
      "outputs": [
        {
          "output_type": "stream",
          "text": [
            "tera leader\n"
          ],
          "name": "stdout"
        }
      ]
    },
    {
      "cell_type": "code",
      "metadata": {
        "colab": {
          "base_uri": "https://localhost:8080/"
        },
        "id": "OGj_v7mHxm2G",
        "outputId": "e66882af-1c4e-4892-b165-8d983ae7bfd1"
      },
      "source": [
        "credits=6500\n",
        "if 7500<=credits:\n",
        "  print(\"Tera leader\")\n",
        "elif 6000<=credits<7500:\n",
        "  print(\"Gega leader\")\n",
        "elif 4500<=credits<6000:\n",
        "  print(\"Mega leader\")\n",
        "else:\n",
        "  print(\"Rising star\")      "
      ],
      "execution_count": 3,
      "outputs": [
        {
          "output_type": "stream",
          "text": [
            "Gega leader\n"
          ],
          "name": "stdout"
        }
      ]
    },
    {
      "cell_type": "code",
      "metadata": {
        "colab": {
          "base_uri": "https://localhost:8080/"
        },
        "id": "2JldbIjsyJlP",
        "outputId": "f21f2614-49ca-4161-b1a1-5856fe8fdb88"
      },
      "source": [
        "credits=5000\n",
        "if 7500<=credits:\n",
        "  print(\"tera leader\")\n",
        "elif 6000<=credits<7500:\n",
        "  print(\"gega leader\")\n",
        "elif 4500<=credits<6000:\n",
        "  print(\"Mega leader\")\n",
        "else:\n",
        "  print(\"Rising star\")  "
      ],
      "execution_count": 4,
      "outputs": [
        {
          "output_type": "stream",
          "text": [
            "Mega leader\n"
          ],
          "name": "stdout"
        }
      ]
    },
    {
      "cell_type": "code",
      "metadata": {
        "colab": {
          "base_uri": "https://localhost:8080/"
        },
        "id": "sGndSgvfyqbn",
        "outputId": "8ba6278f-e841-4683-b104-525c0ee54008"
      },
      "source": [
        "credits=3000\n",
        "if 7500<=credits:\n",
        "  print(\"Tera leader\")\n",
        "elif 6000<=credits<7500:\n",
        "  print(\"Gega leader\")\n",
        "elif 4500<=credits<6000:\n",
        "  print(\"Mega leader\")\n",
        "else:\n",
        "  print(\"Rising star\")      "
      ],
      "execution_count": 5,
      "outputs": [
        {
          "output_type": "stream",
          "text": [
            "Rising star\n"
          ],
          "name": "stdout"
        }
      ]
    },
    {
      "cell_type": "code",
      "metadata": {
        "id": "KyRmHqSqzF2I"
      },
      "source": [
        "#2 write the pseudocode and a program to calculate the simple interest based on the inputs(amount,rate,time)provided by the user"
      ],
      "execution_count": 6,
      "outputs": []
    },
    {
      "cell_type": "code",
      "metadata": {
        "colab": {
          "base_uri": "https://localhost:8080/"
        },
        "id": "0wW66F-kzarH",
        "outputId": "1d3d9583-3b2c-454a-c5cb-dc777d9e85e5"
      },
      "source": [
        "amount=input()\n",
        "rate=input()\n",
        "time=input()\n",
        "P=float(amount)\n",
        "R=float(rate)\n",
        "T=float(time)\n",
        "simple_interest=(P*T*R)/100\n",
        "print(\"Simple Interest is:\",simple_interest)"
      ],
      "execution_count": 7,
      "outputs": [
        {
          "output_type": "stream",
          "text": [
            "5000\n",
            "2\n",
            "5\n",
            "Simple Interest is: 500.0\n"
          ],
          "name": "stdout"
        }
      ]
    },
    {
      "cell_type": "code",
      "metadata": {
        "id": "klm4KAgP0Beb"
      },
      "source": [
        "#3 write the pseudocode and the program to calculate GCD of two numbers"
      ],
      "execution_count": 8,
      "outputs": []
    },
    {
      "cell_type": "code",
      "metadata": {
        "colab": {
          "base_uri": "https://localhost:8080/"
        },
        "id": "gIwd41cJ0OMg",
        "outputId": "7c0837fa-f195-4b3f-bf12-6c1faef38496"
      },
      "source": [
        "num1=int(input(\"enter first number:\"))\n",
        "num2=int(input(\"enter second number:\"))\n",
        "while num1 % num2 !=0:\n",
        "    rem=num1%num2\n",
        "    num1=num2\n",
        "    num2=rem\n",
        "    print(\"GCD is\",num2)"
      ],
      "execution_count": 9,
      "outputs": [
        {
          "output_type": "stream",
          "text": [
            "enter first number:50\n",
            "enter second number:20\n",
            "GCD is 10\n"
          ],
          "name": "stdout"
        }
      ]
    },
    {
      "cell_type": "code",
      "metadata": {
        "id": "x41YR29e0tQc"
      },
      "source": [
        "#5 write a program to count the number of digits in a number"
      ],
      "execution_count": 10,
      "outputs": []
    },
    {
      "cell_type": "code",
      "metadata": {
        "colab": {
          "base_uri": "https://localhost:8080/"
        },
        "id": "5SfpX6u-01zN",
        "outputId": "53b448db-25a2-41e3-e7ad-a6eab49f6cda"
      },
      "source": [
        "count=0\n",
        "number=int(input(\"enter a number:\"))\n",
        "while number>0:\n",
        "  number=number//10\n",
        "  count=count+1\n",
        "  print(\"total number of digits:\",count)"
      ],
      "execution_count": 11,
      "outputs": [
        {
          "output_type": "stream",
          "text": [
            "enter a number:123456789\n",
            "total number of digits: 1\n",
            "total number of digits: 2\n",
            "total number of digits: 3\n",
            "total number of digits: 4\n",
            "total number of digits: 5\n",
            "total number of digits: 6\n",
            "total number of digits: 7\n",
            "total number of digits: 8\n",
            "total number of digits: 9\n"
          ],
          "name": "stdout"
        }
      ]
    },
    {
      "cell_type": "code",
      "metadata": {
        "id": "VTGk5cFi1MA3"
      },
      "source": [
        "#6 write a program to reverse a number"
      ],
      "execution_count": 12,
      "outputs": []
    },
    {
      "cell_type": "code",
      "metadata": {
        "colab": {
          "base_uri": "https://localhost:8080/"
        },
        "id": "2KMw8WM01MZK",
        "outputId": "335f9acc-055e-4a07-dcb3-df94fab3dd3f"
      },
      "source": [
        "num=str(input(\"enter the number to be reversed:\"))\n",
        "print(\"reverse of given number is:\")\n",
        "print(num[::-1])"
      ],
      "execution_count": 13,
      "outputs": [
        {
          "output_type": "stream",
          "text": [
            "enter the number to be reversed:123456\n",
            "reverse of given number is:\n",
            "654321\n"
          ],
          "name": "stdout"
        }
      ]
    },
    {
      "cell_type": "code",
      "metadata": {
        "id": "pjlO_e161lgC"
      },
      "source": [
        "#7 write the program to print the following pattern for an input n=5"
      ],
      "execution_count": 14,
      "outputs": []
    },
    {
      "cell_type": "code",
      "metadata": {
        "id": "fFgxEXc71zBV"
      },
      "source": [
        "# a)"
      ],
      "execution_count": 15,
      "outputs": []
    },
    {
      "cell_type": "code",
      "metadata": {
        "colab": {
          "base_uri": "https://localhost:8080/"
        },
        "id": "RPuXvupH13uK",
        "outputId": "9a1c3ce1-c795-4e5a-e5f4-d24dc325ed8f"
      },
      "source": [
        "n=5\n",
        "\n",
        "row=0\n",
        "\n",
        "while row<n:\n",
        "    col=0\n",
        "    while col<=row:\n",
        "      print(\"*\",end=\"\")\n",
        "      col=col+1\n",
        "\n",
        "    print()\n",
        "    row=row+1  "
      ],
      "execution_count": 16,
      "outputs": [
        {
          "output_type": "stream",
          "text": [
            "*\n",
            "**\n",
            "***\n",
            "****\n",
            "*****\n"
          ],
          "name": "stdout"
        }
      ]
    },
    {
      "cell_type": "code",
      "metadata": {
        "id": "55tnwXGO2aJK"
      },
      "source": [
        "# b)"
      ],
      "execution_count": 17,
      "outputs": []
    },
    {
      "cell_type": "code",
      "metadata": {
        "colab": {
          "base_uri": "https://localhost:8080/"
        },
        "id": "KMv78iFV2fZY",
        "outputId": "89b697d6-493f-4821-d3b9-4b1c96c55cc4"
      },
      "source": [
        "n=6\n",
        "\n",
        "row=0\n",
        "\n",
        "while row<n:\n",
        "  col=1\n",
        "  while col<=row:\n",
        "    print(col,end=\"\")\n",
        "    col=col+1\n",
        "\n",
        "  print()\n",
        "  row=row+1  "
      ],
      "execution_count": 18,
      "outputs": [
        {
          "output_type": "stream",
          "text": [
            "\n",
            "1\n",
            "12\n",
            "123\n",
            "1234\n",
            "12345\n"
          ],
          "name": "stdout"
        }
      ]
    },
    {
      "cell_type": "code",
      "metadata": {
        "id": "2IOWLtCY3CX8"
      },
      "source": [
        "#f)"
      ],
      "execution_count": 19,
      "outputs": []
    },
    {
      "cell_type": "code",
      "metadata": {
        "colab": {
          "base_uri": "https://localhost:8080/"
        },
        "id": "jI9aD_E03JVm",
        "outputId": "5dd672c0-4cf0-4cbb-a476-bdde33833528"
      },
      "source": [
        "star=int(input(\"enter any number:\"))\n",
        "space=star //2\n",
        "\n",
        "for i in range(1,star+1,2):\n",
        "  for j in range(0,space):\n",
        "    print(\" \",end=\" \")\n",
        "  space=space-1\n",
        "\n",
        "  while(i>0):\n",
        "    print(\"*\",end=\" \")\n",
        "    i=i-1\n",
        "  print()\n",
        "star=star-2\n",
        "space=1\n",
        "\n",
        "for i in range(star,0,-2):\n",
        "  for j in range(0,space):\n",
        "    print(\" \",end=\" \")\n",
        "  space=space+1\n",
        "\n",
        "  while(i>0):\n",
        "    print(\"*\",end=\" \")\n",
        "    i=i-1\n",
        "  print()  "
      ],
      "execution_count": 20,
      "outputs": [
        {
          "output_type": "stream",
          "text": [
            "enter any number:9\n",
            "        * \n",
            "      * * * \n",
            "    * * * * * \n",
            "  * * * * * * * \n",
            "* * * * * * * * * \n",
            "  * * * * * * * \n",
            "    * * * * * \n",
            "      * * * \n",
            "        * \n"
          ],
          "name": "stdout"
        }
      ]
    }
  ]
}